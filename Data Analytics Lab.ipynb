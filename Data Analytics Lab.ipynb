{
 "cells": [
  {
   "cell_type": "markdown",
   "id": "cd9cb0fb",
   "metadata": {},
   "source": [
    "# NUMPY BASICS"
   ]
  },
  {
   "cell_type": "code",
   "execution_count": 2,
   "id": "5233463b",
   "metadata": {},
   "outputs": [
    {
     "name": "stdout",
     "output_type": "stream",
     "text": [
      "Enter Elements into the array:1 2 3 4\n",
      "The Given array is: [1 2 3 4]\n"
     ]
    }
   ],
   "source": [
    "import numpy as np\n",
    "a=np.array([int(x) for x in input(\"Enter Elements into the array:\").split()])\n",
    "print('The Given array is:',a)"
   ]
  },
  {
   "cell_type": "code",
   "execution_count": 3,
   "id": "abeebea6",
   "metadata": {},
   "outputs": [
    {
     "name": "stdout",
     "output_type": "stream",
     "text": [
      "Given Array after sorting: [1 2 3 4]\n"
     ]
    }
   ],
   "source": [
    "#sorting the array\n",
    "a=np.sort(a)\n",
    "print('Given Array after sorting:',a)"
   ]
  },
  {
   "cell_type": "code",
   "execution_count": 24,
   "id": "67197307",
   "metadata": {},
   "outputs": [
    {
     "name": "stdout",
     "output_type": "stream",
     "text": [
      "Enter the dimention:5\n",
      "5-dimentional array filled with zeros is [0 0 0 0 0]\n"
     ]
    }
   ],
   "source": [
    "#n-dimentional array filled with zeros\n",
    "n=int(input('Enter the dimention:'))\n",
    "a=np.zeros(n,dtype=int)\n",
    "print(f\"{n}-dimentional array filled with zeros is {a}\")"
   ]
  },
  {
   "cell_type": "code",
   "execution_count": 28,
   "id": "f995ae96",
   "metadata": {},
   "outputs": [
    {
     "name": "stdout",
     "output_type": "stream",
     "text": [
      "Enter the dimention:5\n",
      "Enter the number:2\n",
      "5-dimentional array filled with 2 is [2 2 2 2 2]\n"
     ]
    }
   ],
   "source": [
    "#n-dimentional array filled with given number\n",
    "n=int(input('Enter the dimention:'))\n",
    "num=int(input('Enter the number:'))\n",
    "a=np.full(n,num)\n",
    "print(f\"{n}-dimentional array filled with {num} is {a}\")"
   ]
  },
  {
   "cell_type": "code",
   "execution_count": 34,
   "id": "696a6339",
   "metadata": {},
   "outputs": [
    {
     "name": "stdout",
     "output_type": "stream",
     "text": [
      "Enter m:3\n",
      "Enter n:3\n",
      "3*3-matrix filled with zeros is \n",
      "[[0 0 0]\n",
      " [0 0 0]\n",
      " [0 0 0]]\n"
     ]
    }
   ],
   "source": [
    "#m*n-matrix filled with zeros\n",
    "m=int(input('Enter m:'))\n",
    "n=int(input('Enter n:'))\n",
    "a=np.zeros((m,n),dtype=int)\n",
    "print(f'{m}*{n}-matrix filled with zeros is \\n{a}')"
   ]
  },
  {
   "cell_type": "code",
   "execution_count": 35,
   "id": "8642989b",
   "metadata": {},
   "outputs": [
    {
     "name": "stdout",
     "output_type": "stream",
     "text": [
      "Enter m:3\n",
      "Enter n:3\n",
      "Enter a number:5\n",
      "3*3-matrix filled with 5 is \n",
      "[[5 5 5]\n",
      " [5 5 5]\n",
      " [5 5 5]]\n"
     ]
    }
   ],
   "source": [
    "#m*n-matrix filled with given number\n",
    "m=int(input('Enter m:'))\n",
    "n=int(input('Enter n:'))\n",
    "num=int(input('Enter a number:'))\n",
    "a=np.full((m,n),num)\n",
    "print(f'{m}*{n}-matrix filled with {num} is \\n{a}')"
   ]
  },
  {
   "cell_type": "code",
   "execution_count": 37,
   "id": "e89e8c19",
   "metadata": {},
   "outputs": [
    {
     "name": "stdout",
     "output_type": "stream",
     "text": [
      "Enter m:3\n",
      "Enter n:3\n",
      "3*3 Identiti matrix is \n",
      "[[1 0 0]\n",
      " [0 1 0]\n",
      " [0 0 1]]\n"
     ]
    }
   ],
   "source": [
    "#identity matrix of given size\n",
    "m=int(input('Enter m:'))\n",
    "n=int(input('Enter n:'))\n",
    "a=np.eye(m,n,dtype=int)\n",
    "print(f'{m}*{n} Identiti matrix is \\n{a}')"
   ]
  },
  {
   "cell_type": "code",
   "execution_count": 4,
   "id": "270d4380",
   "metadata": {},
   "outputs": [
    {
     "data": {
      "text/plain": [
       "array([10, 20, 30, 40])"
      ]
     },
     "execution_count": 4,
     "metadata": {},
     "output_type": "execute_result"
    }
   ],
   "source": [
    "a2=np.arange(10,50,10)\n",
    "a2"
   ]
  },
  {
   "cell_type": "code",
   "execution_count": 8,
   "id": "a4da9010",
   "metadata": {},
   "outputs": [
    {
     "data": {
      "text/plain": [
       "array([2, 3, 4])"
      ]
     },
     "execution_count": 8,
     "metadata": {},
     "output_type": "execute_result"
    }
   ],
   "source": [
    "a3=np.arange(2,5)\n",
    "a3"
   ]
  },
  {
   "cell_type": "code",
   "execution_count": 23,
   "id": "5d10658b",
   "metadata": {},
   "outputs": [
    {
     "name": "stdout",
     "output_type": "stream",
     "text": [
      "[ 0.   2.5  5.   7.5 10. ]\n"
     ]
    }
   ],
   "source": [
    "a=np.linspace(0,10,5)\n",
    "print(a)\n"
   ]
  },
  {
   "cell_type": "code",
   "execution_count": 36,
   "id": "3cebd785",
   "metadata": {},
   "outputs": [
    {
     "name": "stdout",
     "output_type": "stream",
     "text": [
      "[[0.7342333  0.10969849]\n",
      " [0.31882911 0.2584195 ]]\n"
     ]
    }
   ],
   "source": [
    "#uniformly distrbuted random values\n",
    "a=np.random.random((2,2))\n",
    "print(a)"
   ]
  },
  {
   "cell_type": "markdown",
   "id": "fec3459a",
   "metadata": {},
   "source": [
    "# 1.) Create a one-dimensional array and perform  all operations on it."
   ]
  },
  {
   "cell_type": "code",
   "execution_count": 45,
   "id": "972ddb8d",
   "metadata": {},
   "outputs": [
    {
     "name": "stdout",
     "output_type": "stream",
     "text": [
      "Enter elements into 1st array:1 2 3 4\n",
      "Enter elements into 2nd array:9 8 7 6\n",
      "First array is:\n",
      "a= [1. 2. 3. 4.]\n",
      "Second array is:\n",
      "b= [9. 8. 7. 6.]\n",
      "Operations on the given arrays:\n",
      "a+b= [10. 10. 10. 10.]\n",
      "a-b= [-8. -6. -4. -2.]\n",
      "a*b= [ 9. 16. 21. 24.]\n",
      "a/b= [0.11111111 0.25       0.42857143 0.66666667]\n",
      "Square of a= [ 1.  4.  9. 16.] \n",
      "Square of b= [81. 64. 49. 36.]\n",
      "Square root of a= [1.         1.41421356 1.73205081 2.        ] \n",
      "Square root of b= [3.         2.82842712 2.64575131 2.44948974]\n"
     ]
    }
   ],
   "source": [
    "import numpy as np\n",
    "a=np.array([float(x) for x in input('Enter elements into 1st array:').split()])\n",
    "b=np.array([float(x) for x in input('Enter elements into 2nd array:').split()])\n",
    "print('First array is:\\na=',a)\n",
    "print('Second array is:\\nb=',b)\n",
    "print('Operations on the given arrays:')\n",
    "print('a+b=',a+b)\n",
    "print('a-b=',a-b)\n",
    "print('a*b=',a*b)\n",
    "print('a/b=',a/b)\n",
    "print('Square of a=',np.square(a),'\\nSquare of b=',np.square(b))\n",
    "print('Square root of a=',np.sqrt(a),'\\nSquare root of b=',np.sqrt(b))"
   ]
  },
  {
   "cell_type": "markdown",
   "id": "7c7c7d78",
   "metadata": {},
   "source": [
    "# 2.)\tCreate multi-dimensional arrays and find its shape and dimension "
   ]
  },
  {
   "cell_type": "code",
   "execution_count": 55,
   "id": "304323b3",
   "metadata": {},
   "outputs": [
    {
     "name": "stdout",
     "output_type": "stream",
     "text": [
      "The Multi-dimentional array is:\n",
      " [[1 2 3]\n",
      " [4 5 6]\n",
      " [7 8 9]]\n",
      "Dimension of a is  2\n",
      "Shape of a is  (3, 3)\n"
     ]
    }
   ],
   "source": [
    "import numpy as np\n",
    "a=np.array([[1,2,3],\n",
    "           [4,5,6],\n",
    "           [7,8,9]])\n",
    "print('The Multi-dimentional array is:\\n',a)\n",
    "print('Dimension of a is ',a.ndim)\n",
    "print('Shape of a is ',a.shape)"
   ]
  },
  {
   "cell_type": "markdown",
   "id": "ecc2dd3f",
   "metadata": {},
   "source": [
    "# iii)\tCreate a matrix full of zeros and ones"
   ]
  },
  {
   "cell_type": "code",
   "execution_count": 57,
   "id": "ccc754d5",
   "metadata": {},
   "outputs": [
    {
     "name": "stdout",
     "output_type": "stream",
     "text": [
      "Enter m:3\n",
      "Enter n:3\n",
      "3*3 matrix full of zeros and ones is\n",
      "[[1 0 0]\n",
      " [0 1 0]\n",
      " [0 0 1]]\n"
     ]
    }
   ],
   "source": [
    "import numpy as np\n",
    "m=int(input('Enter m:'))\n",
    "n=int(input('Enter n:'))\n",
    "a=np.eye(m,n,dtype=int)\n",
    "print(f'{m}*{n} matrix full of zeros and ones is\\n{a}')"
   ]
  },
  {
   "cell_type": "markdown",
   "id": "c0eca388",
   "metadata": {},
   "source": [
    "# iv)\tReshape and flatten data in the array"
   ]
  },
  {
   "cell_type": "code",
   "execution_count": 63,
   "id": "d3d72976",
   "metadata": {},
   "outputs": [
    {
     "name": "stdout",
     "output_type": "stream",
     "text": [
      "Enter elements into the array:1 2 3 4 5 6\n",
      "Enter m:2\n",
      "Enter n:3\n",
      "Array before Reshape is\n",
      " [1. 2. 3. 4. 5. 6.]\n",
      "Array after Reshaping into 2*3 matrix is\n",
      "[[1. 2. 3.]\n",
      " [4. 5. 6.]]\n",
      "Array after flattening is\n",
      " [1. 2. 3. 4. 5. 6.]\n"
     ]
    }
   ],
   "source": [
    "a=np.array([float(x) for x in input('Enter elements into the array:').split()])\n",
    "m=int(input('Enter m:'))\n",
    "n=int(input('Enter n:'))\n",
    "print('Array before Reshape is\\n',a)\n",
    "a=a.reshape(m,n)\n",
    "print(f'Array after Reshaping into {m}*{n} matrix is\\n{a}')\n",
    "a=a.flatten()\n",
    "print('Array after flattening is\\n',a)"
   ]
  },
  {
   "cell_type": "markdown",
   "id": "0a6a4e83",
   "metadata": {},
   "source": [
    "# v)\tPerform arithmetic operations on multi-dimensional  arrays"
   ]
  },
  {
   "cell_type": "code",
   "execution_count": 62,
   "id": "5a8d9c24",
   "metadata": {},
   "outputs": [
    {
     "name": "stdout",
     "output_type": "stream",
     "text": [
      "The Multi-dimentional array is:\n",
      "a= [[10 20 30]\n",
      " [40 50 60]\n",
      " [70 80 90]]\n",
      "Arithematic Operations on a:\n",
      "*a+10:\n",
      " [[ 20  30  40]\n",
      " [ 50  60  70]\n",
      " [ 80  90 100]] \n",
      "*a-10:\n",
      " [[ 0 10 20]\n",
      " [30 40 50]\n",
      " [60 70 80]] \n",
      "*a*2:\n",
      " [[ 20  40  60]\n",
      " [ 80 100 120]\n",
      " [140 160 180]] \n",
      "*a/10:\n",
      " [[1. 2. 3.]\n",
      " [4. 5. 6.]\n",
      " [7. 8. 9.]]\n"
     ]
    }
   ],
   "source": [
    "import numpy as np\n",
    "a=np.array([[10,20,30],\n",
    "           [40,50,60],\n",
    "           [70,80,90]])\n",
    "print(\"The Multi-dimentional array is:\\na=\",a)\n",
    "print('Arithematic Operations on a:')\n",
    "print('*a+10:\\n',a+10,'\\n*a-10:\\n',a-10,'\\n*a*2:\\n',a*2,'\\n*a/10:\\n',a/10)"
   ]
  },
  {
   "cell_type": "markdown",
   "id": "0d89bce9",
   "metadata": {},
   "source": [
    "# vi)\tAppend data vertically and horizontally "
   ]
  },
  {
   "cell_type": "code",
   "execution_count": 1,
   "id": "eecab378",
   "metadata": {},
   "outputs": [
    {
     "name": "stdout",
     "output_type": "stream",
     "text": [
      "Enter elements into the array:1 2 3 \n",
      "The Given array is:\n",
      " [1. 2. 3.]\n",
      "Enter elements to append the data horizontally:4\n",
      "Array after appending the given data horizontally is:\n",
      " [1. 2. 3. 4.]\n"
     ]
    },
    {
     "ename": "TypeError",
     "evalue": "Kernel.raw_input() takes from 1 to 2 positional arguments but 4 were given",
     "output_type": "error",
     "traceback": [
      "\u001b[1;31m---------------------------------------------------------------------------\u001b[0m",
      "\u001b[1;31mTypeError\u001b[0m                                 Traceback (most recent call last)",
      "Cell \u001b[1;32mIn[1], line 7\u001b[0m\n\u001b[0;32m      5\u001b[0m a\u001b[38;5;241m=\u001b[39mnp\u001b[38;5;241m.\u001b[39mhstack((a,b))\n\u001b[0;32m      6\u001b[0m \u001b[38;5;28mprint\u001b[39m(\u001b[38;5;124m'\u001b[39m\u001b[38;5;124mArray after appending the given data horizontally is:\u001b[39m\u001b[38;5;130;01m\\n\u001b[39;00m\u001b[38;5;124m'\u001b[39m,a)\n\u001b[1;32m----> 7\u001b[0m c\u001b[38;5;241m=\u001b[39m([\u001b[38;5;28mfloat\u001b[39m(x) \u001b[38;5;28;01mfor\u001b[39;00m x \u001b[38;5;129;01min\u001b[39;00m \u001b[38;5;28minput\u001b[39m(\u001b[38;5;124m\"\u001b[39m\u001b[38;5;124mEnter \u001b[39m\u001b[38;5;124m\"\u001b[39m,\u001b[38;5;28mlen\u001b[39m(a),\u001b[38;5;124m\"\u001b[39m\u001b[38;5;124melements to append the data vertically:\u001b[39m\u001b[38;5;124m\"\u001b[39m)\u001b[38;5;241m.\u001b[39msplit()])\n\u001b[0;32m      8\u001b[0m a\u001b[38;5;241m=\u001b[39mnp\u001b[38;5;241m.\u001b[39mvstack((a,c))\n\u001b[0;32m      9\u001b[0m \u001b[38;5;28mprint\u001b[39m(\u001b[38;5;124m'\u001b[39m\u001b[38;5;124mArray after appending the given data vertically is:\u001b[39m\u001b[38;5;130;01m\\n\u001b[39;00m\u001b[38;5;124m'\u001b[39m,a)\n",
      "\u001b[1;31mTypeError\u001b[0m: Kernel.raw_input() takes from 1 to 2 positional arguments but 4 were given"
     ]
    }
   ],
   "source": [
    "import numpy as np\n",
    "a=np.array([float(x) for x in input('Enter elements into the array:').split()])\n",
    "print('The Given array is:\\n',a)\n",
    "b=([float(x) for x in input(\"Enter elements to append the data horizontally:\").split()])\n",
    "a=np.hstack((a,b))\n",
    "print('Array after appending the given data horizontally is:\\n',a)\n",
    "c=([float(x) for x in input(\"Enter \",len(a),\"elements to append the data vertically:\").split()])\n",
    "a=np.vstack((a,c))\n",
    "print('Array after appending the given data vertically is:\\n',a)"
   ]
  },
  {
   "cell_type": "code",
   "execution_count": null,
   "id": "c3b233cc",
   "metadata": {},
   "outputs": [],
   "source": []
  },
  {
   "cell_type": "code",
   "execution_count": null,
   "id": "d1c6bbdb",
   "metadata": {},
   "outputs": [],
   "source": []
  }
 ],
 "metadata": {
  "kernelspec": {
   "display_name": "Python 3 (ipykernel)",
   "language": "python",
   "name": "python3"
  },
  "language_info": {
   "codemirror_mode": {
    "name": "ipython",
    "version": 3
   },
   "file_extension": ".py",
   "mimetype": "text/x-python",
   "name": "python",
   "nbconvert_exporter": "python",
   "pygments_lexer": "ipython3",
   "version": "3.11.3"
  }
 },
 "nbformat": 4,
 "nbformat_minor": 5
}

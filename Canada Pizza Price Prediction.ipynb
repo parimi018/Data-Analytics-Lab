{
 "cells": [
  {
   "cell_type": "code",
   "execution_count": 7,
   "id": "abb6274f",
   "metadata": {},
   "outputs": [
    {
     "data": {
      "text/html": [
       "<div>\n",
       "<style scoped>\n",
       "    .dataframe tbody tr th:only-of-type {\n",
       "        vertical-align: middle;\n",
       "    }\n",
       "\n",
       "    .dataframe tbody tr th {\n",
       "        vertical-align: top;\n",
       "    }\n",
       "\n",
       "    .dataframe thead th {\n",
       "        text-align: right;\n",
       "    }\n",
       "</style>\n",
       "<table border=\"1\" class=\"dataframe\">\n",
       "  <thead>\n",
       "    <tr style=\"text-align: right;\">\n",
       "      <th></th>\n",
       "      <th>company</th>\n",
       "      <th>price_cad</th>\n",
       "      <th>diameter</th>\n",
       "      <th>topping</th>\n",
       "      <th>variant</th>\n",
       "      <th>size</th>\n",
       "      <th>extra_sauce</th>\n",
       "      <th>extra_cheese</th>\n",
       "      <th>extra_mushrooms</th>\n",
       "    </tr>\n",
       "  </thead>\n",
       "  <tbody>\n",
       "    <tr>\n",
       "      <th>0</th>\n",
       "      <td>A</td>\n",
       "      <td>$29</td>\n",
       "      <td>22 inch</td>\n",
       "      <td>chicken</td>\n",
       "      <td>double_signature</td>\n",
       "      <td>jumbo</td>\n",
       "      <td>yes</td>\n",
       "      <td>yes</td>\n",
       "      <td>no</td>\n",
       "    </tr>\n",
       "    <tr>\n",
       "      <th>1</th>\n",
       "      <td>A</td>\n",
       "      <td>$25</td>\n",
       "      <td>20 inch</td>\n",
       "      <td>papperoni</td>\n",
       "      <td>double_signature</td>\n",
       "      <td>jumbo</td>\n",
       "      <td>yes</td>\n",
       "      <td>yes</td>\n",
       "      <td>no</td>\n",
       "    </tr>\n",
       "    <tr>\n",
       "      <th>2</th>\n",
       "      <td>A</td>\n",
       "      <td>$19</td>\n",
       "      <td>16 inch</td>\n",
       "      <td>mushrooms</td>\n",
       "      <td>double_signature</td>\n",
       "      <td>reguler</td>\n",
       "      <td>yes</td>\n",
       "      <td>yes</td>\n",
       "      <td>yes</td>\n",
       "    </tr>\n",
       "    <tr>\n",
       "      <th>3</th>\n",
       "      <td>A</td>\n",
       "      <td>$22</td>\n",
       "      <td>14 inch</td>\n",
       "      <td>smoked_beef</td>\n",
       "      <td>double_signature</td>\n",
       "      <td>reguler</td>\n",
       "      <td>yes</td>\n",
       "      <td>no</td>\n",
       "      <td>yes</td>\n",
       "    </tr>\n",
       "    <tr>\n",
       "      <th>4</th>\n",
       "      <td>A</td>\n",
       "      <td>$30</td>\n",
       "      <td>18 inch</td>\n",
       "      <td>mozzarella</td>\n",
       "      <td>double_signature</td>\n",
       "      <td>jumbo</td>\n",
       "      <td>yes</td>\n",
       "      <td>no</td>\n",
       "      <td>yes</td>\n",
       "    </tr>\n",
       "    <tr>\n",
       "      <th>...</th>\n",
       "      <td>...</td>\n",
       "      <td>...</td>\n",
       "      <td>...</td>\n",
       "      <td>...</td>\n",
       "      <td>...</td>\n",
       "      <td>...</td>\n",
       "      <td>...</td>\n",
       "      <td>...</td>\n",
       "      <td>...</td>\n",
       "    </tr>\n",
       "    <tr>\n",
       "      <th>124</th>\n",
       "      <td>E</td>\n",
       "      <td>$11</td>\n",
       "      <td>8.5 inch</td>\n",
       "      <td>tuna</td>\n",
       "      <td>spicy tuna</td>\n",
       "      <td>small</td>\n",
       "      <td>yes</td>\n",
       "      <td>yes</td>\n",
       "      <td>yes</td>\n",
       "    </tr>\n",
       "    <tr>\n",
       "      <th>125</th>\n",
       "      <td>E</td>\n",
       "      <td>$14</td>\n",
       "      <td>12 inch</td>\n",
       "      <td>tuna</td>\n",
       "      <td>spicy tuna</td>\n",
       "      <td>medium</td>\n",
       "      <td>yes</td>\n",
       "      <td>yes</td>\n",
       "      <td>yes</td>\n",
       "    </tr>\n",
       "    <tr>\n",
       "      <th>126</th>\n",
       "      <td>E</td>\n",
       "      <td>$17</td>\n",
       "      <td>14 inch</td>\n",
       "      <td>tuna</td>\n",
       "      <td>spicy tuna</td>\n",
       "      <td>large</td>\n",
       "      <td>yes</td>\n",
       "      <td>yes</td>\n",
       "      <td>yes</td>\n",
       "    </tr>\n",
       "    <tr>\n",
       "      <th>127</th>\n",
       "      <td>E</td>\n",
       "      <td>$12</td>\n",
       "      <td>8.5 inch</td>\n",
       "      <td>meat</td>\n",
       "      <td>BBQ_meat_fiesta</td>\n",
       "      <td>small</td>\n",
       "      <td>yes</td>\n",
       "      <td>no</td>\n",
       "      <td>yes</td>\n",
       "    </tr>\n",
       "    <tr>\n",
       "      <th>128</th>\n",
       "      <td>E</td>\n",
       "      <td>$15</td>\n",
       "      <td>12 inch</td>\n",
       "      <td>meat</td>\n",
       "      <td>BBQ_meat_fiesta</td>\n",
       "      <td>medium</td>\n",
       "      <td>no</td>\n",
       "      <td>no</td>\n",
       "      <td>yes</td>\n",
       "    </tr>\n",
       "  </tbody>\n",
       "</table>\n",
       "<p>129 rows × 9 columns</p>\n",
       "</div>"
      ],
      "text/plain": [
       "    company price_cad  diameter      topping           variant     size  \\\n",
       "0         A      $29    22 inch      chicken  double_signature    jumbo   \n",
       "1         A      $25    20 inch    papperoni  double_signature    jumbo   \n",
       "2         A      $19    16 inch    mushrooms  double_signature  reguler   \n",
       "3         A      $22    14 inch  smoked_beef  double_signature  reguler   \n",
       "4         A      $30    18 inch   mozzarella  double_signature    jumbo   \n",
       "..      ...       ...       ...          ...               ...      ...   \n",
       "124       E      $11   8.5 inch         tuna        spicy tuna    small   \n",
       "125       E      $14    12 inch         tuna        spicy tuna   medium   \n",
       "126       E      $17    14 inch         tuna        spicy tuna    large   \n",
       "127       E      $12   8.5 inch         meat   BBQ_meat_fiesta    small   \n",
       "128       E      $15    12 inch         meat   BBQ_meat_fiesta   medium   \n",
       "\n",
       "    extra_sauce extra_cheese extra_mushrooms  \n",
       "0           yes          yes              no  \n",
       "1           yes          yes              no  \n",
       "2           yes          yes             yes  \n",
       "3           yes           no             yes  \n",
       "4           yes           no             yes  \n",
       "..          ...          ...             ...  \n",
       "124         yes          yes             yes  \n",
       "125         yes          yes             yes  \n",
       "126         yes          yes             yes  \n",
       "127         yes           no             yes  \n",
       "128          no           no             yes  \n",
       "\n",
       "[129 rows x 9 columns]"
      ]
     },
     "metadata": {},
     "output_type": "display_data"
    }
   ],
   "source": [
    "import pandas as pd\n",
    "data=pd.read_csv('pizza_price_prediction_5thquestion.csv')\n",
    "display(data)"
   ]
  },
  {
   "cell_type": "markdown",
   "id": "3f076dac",
   "metadata": {},
   "source": [
    "## a)\tCount the number of null values in the pizza dataset and replace null values with average of the concerned columns. "
   ]
  },
  {
   "cell_type": "code",
   "execution_count": 6,
   "id": "8e4435ae",
   "metadata": {},
   "outputs": [
    {
     "data": {
      "text/plain": [
       "company            0\n",
       "price_cad          0\n",
       "diameter           0\n",
       "topping            0\n",
       "variant            0\n",
       "size               0\n",
       "extra_sauce        0\n",
       "extra_cheese       0\n",
       "extra_mushrooms    0\n",
       "dtype: int64"
      ]
     },
     "execution_count": 6,
     "metadata": {},
     "output_type": "execute_result"
    }
   ],
   "source": [
    "data.isnull().sum()"
   ]
  },
  {
   "cell_type": "markdown",
   "id": "bc3a0600",
   "metadata": {},
   "source": [
    "## b)\tCalculate average price of pizza prepared by each company."
   ]
  },
  {
   "cell_type": "code",
   "execution_count": 103,
   "id": "c0b45bd6",
   "metadata": {},
   "outputs": [
    {
     "data": {
      "text/plain": [
       "company\n",
       "A    19.600\n",
       "B    14.375\n",
       "C    13.800\n",
       "D    16.600\n",
       "E    14.400\n",
       "Name: price_card, dtype: float64"
      ]
     },
     "execution_count": 103,
     "metadata": {},
     "output_type": "execute_result"
    }
   ],
   "source": [
    "data['price_card']=[int(i[1:]) for i in data['price_cad']]\n",
    "data.groupby('company')['price_card'].mean()"
   ]
  },
  {
   "cell_type": "markdown",
   "id": "e8ad5f95",
   "metadata": {},
   "source": [
    "## c)\tFind the companies, who prepared pizzas with different variants with same diameter."
   ]
  },
  {
   "cell_type": "code",
   "execution_count": 60,
   "id": "6d8cbc95",
   "metadata": {},
   "outputs": [
    {
     "data": {
      "text/plain": [
       "array(['A', 'B', 'C', 'D', 'E'], dtype=object)"
      ]
     },
     "execution_count": 60,
     "metadata": {},
     "output_type": "execute_result"
    }
   ],
   "source": [
    "data.groupby(['company','diameter']).filter(lambda x:x['variant'].nunique() > 1)['company'].unique()"
   ]
  },
  {
   "cell_type": "markdown",
   "id": "1b95b94c",
   "metadata": {},
   "source": [
    "## d)\tWhich company has more pizzas? Show the result with graph. "
   ]
  },
  {
   "cell_type": "code",
   "execution_count": 94,
   "id": "0c8abf89",
   "metadata": {},
   "outputs": [
    {
     "data": {
      "text/plain": [
       "<BarContainer object of 5 artists>"
      ]
     },
     "execution_count": 94,
     "metadata": {},
     "output_type": "execute_result"
    },
    {
     "data": {
      "image/png": "[encoded data removed]",
      "text/plain": [
       "<Figure size 640x480 with 1 Axes>"
      ]
     },
     "metadata": {},
     "output_type": "display_data"
    }
   ],
   "source": [
    "import matplotlib.pyplot as plt\n",
    "data.groupby('company')['variant'].count()\n",
    "col=['red' if i==a.max() else 'blue' for i in a]\n",
    "plt.title('Companies vs No of Pizzas')\n",
    "plt.xlabel('Companies')\n",
    "plt.ylabel('No of Pizzas')\n",
    "plt.bar(a.index,a,color=col)"
   ]
  },
  {
   "cell_type": "markdown",
   "id": "1f4c3745",
   "metadata": {},
   "source": [
    "## e)\tCheck whether the pizza data set contains null value or not. /Count the no. of null values in the pizza dataset./ Find the number of missing data points per column. "
   ]
  },
  {
   "cell_type": "code",
   "execution_count": 102,
   "id": "9515b86a",
   "metadata": {},
   "outputs": [
    {
     "name": "stdout",
     "output_type": "stream",
     "text": [
      "No of null values in each column is given by:\n",
      "\n",
      "Column Name:\tNo of Null Values\n",
      " company            0\n",
      "price_cad          0\n",
      "diameter           0\n",
      "topping            0\n",
      "variant            0\n",
      "size               0\n",
      "extra_sauce        0\n",
      "extra_cheese       0\n",
      "extra_mushrooms    0\n",
      "price              0\n",
      "dtype: int64\n",
      "\n",
      "\n",
      "Total null values in the dataset are: 0\n"
     ]
    }
   ],
   "source": [
    "print('No of null values in each column is given by:\\n\\nColumn Name:\\tNo of Null Values\\n',data.isnull().sum())\n",
    "print('\\n\\nTotal null values in the dataset are:',data.isnull().sum().sum())"
   ]
  },
  {
   "cell_type": "markdown",
   "id": "20be190b",
   "metadata": {},
   "source": [
    "## f)\tRename the column price_cad as price."
   ]
  },
  {
   "cell_type": "code",
   "execution_count": 109,
   "id": "5567b828",
   "metadata": {},
   "outputs": [
    {
     "data": {
      "text/html": [
       "<div>\n",
       "<style scoped>\n",
       "    .dataframe tbody tr th:only-of-type {\n",
       "        vertical-align: middle;\n",
       "    }\n",
       "\n",
       "    .dataframe tbody tr th {\n",
       "        vertical-align: top;\n",
       "    }\n",
       "\n",
       "    .dataframe thead th {\n",
       "        text-align: right;\n",
       "    }\n",
       "</style>\n",
       "<table border=\"1\" class=\"dataframe\">\n",
       "  <thead>\n",
       "    <tr style=\"text-align: right;\">\n",
       "      <th></th>\n",
       "      <th>company</th>\n",
       "      <th>price</th>\n",
       "      <th>diameter</th>\n",
       "      <th>topping</th>\n",
       "      <th>variant</th>\n",
       "      <th>size</th>\n",
       "      <th>extra_sauce</th>\n",
       "      <th>extra_cheese</th>\n",
       "      <th>extra_mushrooms</th>\n",
       "      <th>price</th>\n",
       "      <th>price_card</th>\n",
       "    </tr>\n",
       "  </thead>\n",
       "  <tbody>\n",
       "    <tr>\n",
       "      <th>0</th>\n",
       "      <td>A</td>\n",
       "      <td>$29</td>\n",
       "      <td>22 inch</td>\n",
       "      <td>chicken</td>\n",
       "      <td>double_signature</td>\n",
       "      <td>jumbo</td>\n",
       "      <td>yes</td>\n",
       "      <td>yes</td>\n",
       "      <td>no</td>\n",
       "      <td>29</td>\n",
       "      <td>29</td>\n",
       "    </tr>\n",
       "    <tr>\n",
       "      <th>1</th>\n",
       "      <td>A</td>\n",
       "      <td>$25</td>\n",
       "      <td>20 inch</td>\n",
       "      <td>papperoni</td>\n",
       "      <td>double_signature</td>\n",
       "      <td>jumbo</td>\n",
       "      <td>yes</td>\n",
       "      <td>yes</td>\n",
       "      <td>no</td>\n",
       "      <td>25</td>\n",
       "      <td>25</td>\n",
       "    </tr>\n",
       "    <tr>\n",
       "      <th>2</th>\n",
       "      <td>A</td>\n",
       "      <td>$19</td>\n",
       "      <td>16 inch</td>\n",
       "      <td>mushrooms</td>\n",
       "      <td>double_signature</td>\n",
       "      <td>reguler</td>\n",
       "      <td>yes</td>\n",
       "      <td>yes</td>\n",
       "      <td>yes</td>\n",
       "      <td>19</td>\n",
       "      <td>19</td>\n",
       "    </tr>\n",
       "    <tr>\n",
       "      <th>3</th>\n",
       "      <td>A</td>\n",
       "      <td>$22</td>\n",
       "      <td>14 inch</td>\n",
       "      <td>smoked_beef</td>\n",
       "      <td>double_signature</td>\n",
       "      <td>reguler</td>\n",
       "      <td>yes</td>\n",
       "      <td>no</td>\n",
       "      <td>yes</td>\n",
       "      <td>22</td>\n",
       "      <td>22</td>\n",
       "    </tr>\n",
       "    <tr>\n",
       "      <th>4</th>\n",
       "      <td>A</td>\n",
       "      <td>$30</td>\n",
       "      <td>18 inch</td>\n",
       "      <td>mozzarella</td>\n",
       "      <td>double_signature</td>\n",
       "      <td>jumbo</td>\n",
       "      <td>yes</td>\n",
       "      <td>no</td>\n",
       "      <td>yes</td>\n",
       "      <td>30</td>\n",
       "      <td>30</td>\n",
       "    </tr>\n",
       "    <tr>\n",
       "      <th>...</th>\n",
       "      <td>...</td>\n",
       "      <td>...</td>\n",
       "      <td>...</td>\n",
       "      <td>...</td>\n",
       "      <td>...</td>\n",
       "      <td>...</td>\n",
       "      <td>...</td>\n",
       "      <td>...</td>\n",
       "      <td>...</td>\n",
       "      <td>...</td>\n",
       "      <td>...</td>\n",
       "    </tr>\n",
       "    <tr>\n",
       "      <th>124</th>\n",
       "      <td>E</td>\n",
       "      <td>$11</td>\n",
       "      <td>8.5 inch</td>\n",
       "      <td>tuna</td>\n",
       "      <td>spicy tuna</td>\n",
       "      <td>small</td>\n",
       "      <td>yes</td>\n",
       "      <td>yes</td>\n",
       "      <td>yes</td>\n",
       "      <td>11</td>\n",
       "      <td>11</td>\n",
       "    </tr>\n",
       "    <tr>\n",
       "      <th>125</th>\n",
       "      <td>E</td>\n",
       "      <td>$14</td>\n",
       "      <td>12 inch</td>\n",
       "      <td>tuna</td>\n",
       "      <td>spicy tuna</td>\n",
       "      <td>medium</td>\n",
       "      <td>yes</td>\n",
       "      <td>yes</td>\n",
       "      <td>yes</td>\n",
       "      <td>14</td>\n",
       "      <td>14</td>\n",
       "    </tr>\n",
       "    <tr>\n",
       "      <th>126</th>\n",
       "      <td>E</td>\n",
       "      <td>$17</td>\n",
       "      <td>14 inch</td>\n",
       "      <td>tuna</td>\n",
       "      <td>spicy tuna</td>\n",
       "      <td>large</td>\n",
       "      <td>yes</td>\n",
       "      <td>yes</td>\n",
       "      <td>yes</td>\n",
       "      <td>17</td>\n",
       "      <td>17</td>\n",
       "    </tr>\n",
       "    <tr>\n",
       "      <th>127</th>\n",
       "      <td>E</td>\n",
       "      <td>$12</td>\n",
       "      <td>8.5 inch</td>\n",
       "      <td>meat</td>\n",
       "      <td>BBQ_meat_fiesta</td>\n",
       "      <td>small</td>\n",
       "      <td>yes</td>\n",
       "      <td>no</td>\n",
       "      <td>yes</td>\n",
       "      <td>12</td>\n",
       "      <td>12</td>\n",
       "    </tr>\n",
       "    <tr>\n",
       "      <th>128</th>\n",
       "      <td>E</td>\n",
       "      <td>$15</td>\n",
       "      <td>12 inch</td>\n",
       "      <td>meat</td>\n",
       "      <td>BBQ_meat_fiesta</td>\n",
       "      <td>medium</td>\n",
       "      <td>no</td>\n",
       "      <td>no</td>\n",
       "      <td>yes</td>\n",
       "      <td>15</td>\n",
       "      <td>15</td>\n",
       "    </tr>\n",
       "  </tbody>\n",
       "</table>\n",
       "<p>129 rows × 11 columns</p>\n",
       "</div>"
      ],
      "text/plain": [
       "    company  price  diameter      topping           variant     size  \\\n",
       "0         A   $29    22 inch      chicken  double_signature    jumbo   \n",
       "1         A   $25    20 inch    papperoni  double_signature    jumbo   \n",
       "2         A   $19    16 inch    mushrooms  double_signature  reguler   \n",
       "3         A   $22    14 inch  smoked_beef  double_signature  reguler   \n",
       "4         A   $30    18 inch   mozzarella  double_signature    jumbo   \n",
       "..      ...    ...       ...          ...               ...      ...   \n",
       "124       E   $11   8.5 inch         tuna        spicy tuna    small   \n",
       "125       E   $14    12 inch         tuna        spicy tuna   medium   \n",
       "126       E   $17    14 inch         tuna        spicy tuna    large   \n",
       "127       E   $12   8.5 inch         meat   BBQ_meat_fiesta    small   \n",
       "128       E   $15    12 inch         meat   BBQ_meat_fiesta   medium   \n",
       "\n",
       "    extra_sauce extra_cheese extra_mushrooms  price  price_card  \n",
       "0           yes          yes              no     29          29  \n",
       "1           yes          yes              no     25          25  \n",
       "2           yes          yes             yes     19          19  \n",
       "3           yes           no             yes     22          22  \n",
       "4           yes           no             yes     30          30  \n",
       "..          ...          ...             ...    ...         ...  \n",
       "124         yes          yes             yes     11          11  \n",
       "125         yes          yes             yes     14          14  \n",
       "126         yes          yes             yes     17          17  \n",
       "127         yes           no             yes     12          12  \n",
       "128          no           no             yes     15          15  \n",
       "\n",
       "[129 rows x 11 columns]"
      ]
     },
     "execution_count": 109,
     "metadata": {},
     "output_type": "execute_result"
    }
   ],
   "source": [
    "data.rename(columns={'price_cad':'price'})"
   ]
  },
  {
   "cell_type": "markdown",
   "id": "808787e1",
   "metadata": {},
   "source": [
    "## g)\tIdentify the number of companies in each category(variant) "
   ]
  },
  {
   "cell_type": "code",
   "execution_count": 141,
   "id": "8a280b31",
   "metadata": {},
   "outputs": [
    {
     "data": {
      "text/plain": [
       "variant\n",
       "BBQ_meat_fiesta         [C, E]\n",
       "BBQ_sausage                [C]\n",
       "american_classic           [C]\n",
       "american_favorite          [A]\n",
       "classic              [B, D, E]\n",
       "crunchy              [B, D, E]\n",
       "double_decker        [B, D, E]\n",
       "double_mix              [A, D]\n",
       "double_signature           [A]\n",
       "extravaganza               [C]\n",
       "gournet_greek              [C]\n",
       "italian_veggie             [C]\n",
       "meat_eater                 [C]\n",
       "meat_lovers             [A, D]\n",
       "neptune_tuna               [C]\n",
       "new_york             [B, D, E]\n",
       "spicy tuna                 [E]\n",
       "spicy_tuna                 [C]\n",
       "super_supreme              [A]\n",
       "thai_veggie                [C]\n",
       "Name: company, dtype: object"
      ]
     },
     "execution_count": 141,
     "metadata": {},
     "output_type": "execute_result"
    }
   ],
   "source": [
    "data.groupby('variant')['company'].unique()"
   ]
  },
  {
   "cell_type": "markdown",
   "id": "68046aab",
   "metadata": {},
   "source": [
    "##  h)\tIdentify which type of pizza is more expensive "
   ]
  },
  {
   "cell_type": "code",
   "execution_count": 172,
   "id": "721e9f06",
   "metadata": {},
   "outputs": [
    {
     "data": {
      "text/html": [
       "<div>\n",
       "<style scoped>\n",
       "    .dataframe tbody tr th:only-of-type {\n",
       "        vertical-align: middle;\n",
       "    }\n",
       "\n",
       "    .dataframe tbody tr th {\n",
       "        vertical-align: top;\n",
       "    }\n",
       "\n",
       "    .dataframe thead th {\n",
       "        text-align: right;\n",
       "    }\n",
       "</style>\n",
       "<table border=\"1\" class=\"dataframe\">\n",
       "  <thead>\n",
       "    <tr style=\"text-align: right;\">\n",
       "      <th></th>\n",
       "      <th>company</th>\n",
       "      <th>price_cad</th>\n",
       "      <th>diameter</th>\n",
       "      <th>topping</th>\n",
       "      <th>variant</th>\n",
       "      <th>size</th>\n",
       "      <th>extra_sauce</th>\n",
       "      <th>extra_cheese</th>\n",
       "      <th>extra_mushrooms</th>\n",
       "      <th>price</th>\n",
       "      <th>price_card</th>\n",
       "    </tr>\n",
       "  </thead>\n",
       "  <tbody>\n",
       "    <tr>\n",
       "      <th>4</th>\n",
       "      <td>A</td>\n",
       "      <td>$30</td>\n",
       "      <td>18 inch</td>\n",
       "      <td>mozzarella</td>\n",
       "      <td>double_signature</td>\n",
       "      <td>jumbo</td>\n",
       "      <td>yes</td>\n",
       "      <td>no</td>\n",
       "      <td>yes</td>\n",
       "      <td>30</td>\n",
       "      <td>30</td>\n",
       "    </tr>\n",
       "  </tbody>\n",
       "</table>\n",
       "</div>"
      ],
      "text/plain": [
       "  company price_cad diameter     topping           variant   size extra_sauce  \\\n",
       "4       A      $30   18 inch  mozzarella  double_signature  jumbo         yes   \n",
       "\n",
       "  extra_cheese extra_mushrooms  price  price_card  \n",
       "4           no             yes     30          30  "
      ]
     },
     "execution_count": 172,
     "metadata": {},
     "output_type": "execute_result"
    }
   ],
   "source": [
    "data[data['price_card']==max(data['price_card'])]"
   ]
  },
  {
   "cell_type": "markdown",
   "id": "1933e45b",
   "metadata": {},
   "source": [
    "## i)\tFind diameter of jumbo size pizza "
   ]
  },
  {
   "cell_type": "code",
   "execution_count": 179,
   "id": "fd298181",
   "metadata": {},
   "outputs": [
    {
     "name": "stdout",
     "output_type": "stream",
     "text": [
      "Diameters of all the jumbo sized pizzas are:\n",
      "\n"
     ]
    },
    {
     "data": {
      "text/plain": [
       "0       22 inch\n",
       "1       20 inch\n",
       "4       18 inch\n",
       "5     18.5 inch\n",
       "6       16 inch\n",
       "10    18.5 inch\n",
       "11      16 inch\n",
       "15    18.5 inch\n",
       "16      16 inch\n",
       "20      22 inch\n",
       "21    18.5 inch\n",
       "79    18.5 inch\n",
       "80      16 inch\n",
       "84      22 inch\n",
       "85    18.5 inch\n",
       "Name: diameter, dtype: object"
      ]
     },
     "execution_count": 179,
     "metadata": {},
     "output_type": "execute_result"
    }
   ],
   "source": [
    "a=data[data['size']=='jumbo']\n",
    "print('Diameters of all the jumbo sized pizzas are:\\n')\n",
    "a['diameter']"
   ]
  },
  {
   "cell_type": "markdown",
   "id": "19bc4b12",
   "metadata": {},
   "source": [
    "## j)\tAny jumbo pizza with diameter less than 16 exists, remove such rows. "
   ]
  },
  {
   "cell_type": "code",
   "execution_count": 211,
   "id": "d0c0eead",
   "metadata": {},
   "outputs": [
    {
     "name": "stderr",
     "output_type": "stream",
     "text": [
      "C:\\Users\\y21cs164\\AppData\\Local\\Temp\\ipykernel_7188\\3796261850.py:2: SettingWithCopyWarning: \n",
      "A value is trying to be set on a copy of a slice from a DataFrame.\n",
      "Try using .loc[row_indexer,col_indexer] = value instead\n",
      "\n",
      "See the caveats in the documentation: https://pandas.pydata.org/pandas-docs/stable/user_guide/indexing.html#returning-a-view-versus-a-copy\n",
      "  a['dia']=[float(i[:-5]) for i in a['diameter']]\n"
     ]
    },
    {
     "data": {
      "text/html": [
       "<div>\n",
       "<style scoped>\n",
       "    .dataframe tbody tr th:only-of-type {\n",
       "        vertical-align: middle;\n",
       "    }\n",
       "\n",
       "    .dataframe tbody tr th {\n",
       "        vertical-align: top;\n",
       "    }\n",
       "\n",
       "    .dataframe thead th {\n",
       "        text-align: right;\n",
       "    }\n",
       "</style>\n",
       "<table border=\"1\" class=\"dataframe\">\n",
       "  <thead>\n",
       "    <tr style=\"text-align: right;\">\n",
       "      <th></th>\n",
       "      <th>company</th>\n",
       "      <th>price_cad</th>\n",
       "      <th>diameter</th>\n",
       "      <th>topping</th>\n",
       "      <th>variant</th>\n",
       "      <th>size</th>\n",
       "      <th>extra_sauce</th>\n",
       "      <th>extra_cheese</th>\n",
       "      <th>extra_mushrooms</th>\n",
       "      <th>price</th>\n",
       "      <th>price_card</th>\n",
       "      <th>dia</th>\n",
       "    </tr>\n",
       "  </thead>\n",
       "  <tbody>\n",
       "  </tbody>\n",
       "</table>\n",
       "</div>"
      ],
      "text/plain": [
       "Empty DataFrame\n",
       "Columns: [company, price_cad, diameter, topping, variant, size, extra_sauce, extra_cheese, extra_mushrooms, price, price_card, dia]\n",
       "Index: []"
      ]
     },
     "execution_count": 211,
     "metadata": {},
     "output_type": "execute_result"
    }
   ],
   "source": [
    "a=data[data['size']=='jumbo']\n",
    "a['dia']=[float(i[:-5]) for i in a['diameter']]\n",
    "a[a['dia'] < 16]"
   ]
  },
  {
   "cell_type": "markdown",
   "id": "00920e72",
   "metadata": {},
   "source": [
    "## k)\tCalculate average price of a pizza prepared by company A."
   ]
  },
  {
   "cell_type": "code",
   "execution_count": 214,
   "id": "9f38f321",
   "metadata": {},
   "outputs": [
    {
     "data": {
      "text/plain": [
       "company\n",
       "A    19.600\n",
       "B    14.375\n",
       "C    13.800\n",
       "D    16.600\n",
       "E    14.400\n",
       "Name: price, dtype: float64"
      ]
     },
     "execution_count": 214,
     "metadata": {},
     "output_type": "execute_result"
    }
   ],
   "source": [
    "data.groupby('company')['price'].mean()"
   ]
  },
  {
   "cell_type": "code",
   "execution_count": null,
   "id": "340be5ce",
   "metadata": {},
   "outputs": [],
   "source": []
  },
  {
   "cell_type": "code",
   "execution_count": null,
   "id": "b0853a0f",
   "metadata": {},
   "outputs": [],
   "source": []
  }
 ],
 "metadata": {
  "kernelspec": {
   "display_name": "Python 3 (ipykernel)",
   "language": "python",
   "name": "python3"
  },
  "language_info": {
   "codemirror_mode": {
    "name": "ipython",
    "version": 3
   },
   "file_extension": ".py",
   "mimetype": "text/x-python",
   "name": "python",
   "nbconvert_exporter": "python",
   "pygments_lexer": "ipython3",
   "version": "3.11.3"
  }
 },
 "nbformat": 4,
 "nbformat_minor": 5
}

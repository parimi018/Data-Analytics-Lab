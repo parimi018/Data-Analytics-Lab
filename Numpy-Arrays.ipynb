{
 "cells": [
  {
   "cell_type": "markdown",
   "id": "fec3459a",
   "metadata": {},
   "source": [
    "# i.) Create a one-dimensional array and perform  all operations on it."
   ]
  },
  {
   "cell_type": "code",
   "execution_count": 45,
   "id": "972ddb8d",
   "metadata": {},
   "outputs": [
    {
     "name": "stdout",
     "output_type": "stream",
     "text": [
      "Enter elements into 1st array:1 2 3 4\n",
      "Enter elements into 2nd array:9 8 7 6\n",
      "First array is:\n",
      "a= [1. 2. 3. 4.]\n",
      "Second array is:\n",
      "b= [9. 8. 7. 6.]\n",
      "Operations on the given arrays:\n",
      "a+b= [10. 10. 10. 10.]\n",
      "a-b= [-8. -6. -4. -2.]\n",
      "a*b= [ 9. 16. 21. 24.]\n",
      "a/b= [0.11111111 0.25       0.42857143 0.66666667]\n",
      "Square of a= [ 1.  4.  9. 16.] \n",
      "Square of b= [81. 64. 49. 36.]\n",
      "Square root of a= [1.         1.41421356 1.73205081 2.        ] \n",
      "Square root of b= [3.         2.82842712 2.64575131 2.44948974]\n"
     ]
    }
   ],
   "source": [
    "import numpy as np\n",
    "a=np.array([float(x) for x in input('Enter elements into 1st array:').split()])\n",
    "b=np.array([float(x) for x in input('Enter elements into 2nd array:').split()])\n",
    "print('First array is:\\na=',a)\n",
    "print('Second array is:\\nb=',b)\n",
    "print('Operations on the given arrays:')\n",
    "print('a+b=',a+b)\n",
    "print('a-b=',a-b)\n",
    "print('a*b=',a*b)\n",
    "print('a/b=',a/b)\n",
    "print('Square of a=',np.square(a),'\\nSquare of b=',np.square(b))\n",
    "print('Square root of a=',np.sqrt(a),'\\nSquare root of b=',np.sqrt(b))"
   ]
  },
  {
   "cell_type": "markdown",
   "id": "7c7c7d78",
   "metadata": {},
   "source": [
    "# ii.)\tCreate multi-dimensional arrays and find its shape and dimension "
   ]
  },
  {
   "cell_type": "code",
   "execution_count": 55,
   "id": "304323b3",
   "metadata": {},
   "outputs": [
    {
     "name": "stdout",
     "output_type": "stream",
     "text": [
      "The Multi-dimentional array is:\n",
      " [[1 2 3]\n",
      " [4 5 6]\n",
      " [7 8 9]]\n",
      "Dimension of a is  2\n",
      "Shape of a is  (3, 3)\n"
     ]
    }
   ],
   "source": [
    "import numpy as np\n",
    "a=np.array([[1,2,3],\n",
    "           [4,5,6],\n",
    "           [7,8,9]])\n",
    "print('The Multi-dimentional array is:\\n',a)\n",
    "print('Dimension of a is ',a.ndim)\n",
    "print('Shape of a is ',a.shape)"
   ]
  },
  {
   "cell_type": "markdown",
   "id": "ecc2dd3f",
   "metadata": {},
   "source": [
    "# iii)\tCreate a matrix full of zeros and ones"
   ]
  },
  {
   "cell_type": "code",
   "execution_count": 57,
   "id": "ccc754d5",
   "metadata": {},
   "outputs": [
    {
     "name": "stdout",
     "output_type": "stream",
     "text": [
      "Enter m:3\n",
      "Enter n:3\n",
      "3*3 matrix full of zeros and ones is\n",
      "[[1 0 0]\n",
      " [0 1 0]\n",
      " [0 0 1]]\n"
     ]
    }
   ],
   "source": [
    "import numpy as np\n",
    "m=int(input('Enter m:'))\n",
    "n=int(input('Enter n:'))\n",
    "a=np.eye(m,n,dtype=int)\n",
    "print(f'{m}*{n} matrix full of zeros and ones is\\n{a}')"
   ]
  },
  {
   "cell_type": "markdown",
   "id": "c0eca388",
   "metadata": {},
   "source": [
    "# iv)\tReshape and flatten data in the array"
   ]
  },
  {
   "cell_type": "code",
   "execution_count": 63,
   "id": "d3d72976",
   "metadata": {},
   "outputs": [
    {
     "name": "stdout",
     "output_type": "stream",
     "text": [
      "Enter elements into the array:1 2 3 4 5 6\n",
      "Enter m:2\n",
      "Enter n:3\n",
      "Array before Reshape is\n",
      " [1. 2. 3. 4. 5. 6.]\n",
      "Array after Reshaping into 2*3 matrix is\n",
      "[[1. 2. 3.]\n",
      " [4. 5. 6.]]\n",
      "Array after flattening is\n",
      " [1. 2. 3. 4. 5. 6.]\n"
     ]
    }
   ],
   "source": [
    "a=np.array([float(x) for x in input('Enter elements into the array:').split()])\n",
    "m=int(input('Enter m:'))\n",
    "n=int(input('Enter n:'))\n",
    "print('Array before Reshape is\\n',a)\n",
    "a=a.reshape(m,n)\n",
    "print(f'Array after Reshaping into {m}*{n} matrix is\\n{a}')\n",
    "a=a.flatten()\n",
    "print('Array after flattening is\\n',a)"
   ]
  },
  {
   "cell_type": "markdown",
   "id": "0a6a4e83",
   "metadata": {},
   "source": [
    "# v)\tPerform arithmetic operations on multi-dimensional  arrays"
   ]
  },
  {
   "cell_type": "code",
   "execution_count": 62,
   "id": "5a8d9c24",
   "metadata": {},
   "outputs": [
    {
     "name": "stdout",
     "output_type": "stream",
     "text": [
      "The Multi-dimentional array is:\n",
      "a= [[10 20 30]\n",
      " [40 50 60]\n",
      " [70 80 90]]\n",
      "Arithematic Operations on a:\n",
      "*a+10:\n",
      " [[ 20  30  40]\n",
      " [ 50  60  70]\n",
      " [ 80  90 100]] \n",
      "*a-10:\n",
      " [[ 0 10 20]\n",
      " [30 40 50]\n",
      " [60 70 80]] \n",
      "*a*2:\n",
      " [[ 20  40  60]\n",
      " [ 80 100 120]\n",
      " [140 160 180]] \n",
      "*a/10:\n",
      " [[1. 2. 3.]\n",
      " [4. 5. 6.]\n",
      " [7. 8. 9.]]\n"
     ]
    }
   ],
   "source": [
    "import numpy as np\n",
    "a=np.array([[10,20,30],\n",
    "           [40,50,60],\n",
    "           [70,80,90]])\n",
    "print(\"The Multi-dimentional array is:\\na=\",a)\n",
    "print('Arithematic Operations on a:')\n",
    "print('*a+10:\\n',a+10,'\\n*a-10:\\n',a-10,'\\n*a*2:\\n',a*2,'\\n*a/10:\\n',a/10)"
   ]
  },
  {
   "cell_type": "markdown",
   "id": "0d89bce9",
   "metadata": {},
   "source": [
    "# vi)\tAppend data vertically and horizontally "
   ]
  },
  {
   "cell_type": "code",
   "execution_count": 11,
   "id": "eecab378",
   "metadata": {},
   "outputs": [
    {
     "name": "stdout",
     "output_type": "stream",
     "text": [
      "Enter elements into the array:1 2\n",
      "The Given array is:\n",
      " [1. 2.]\n",
      "Enter elements to append the data horizontally:3 4\n",
      "Array after appending the given data horizontally is:\n",
      " [1. 2. 3. 4.]\n",
      "Enter 4 elements to append the data vertically:5 6 7 8\n",
      "Array after appending the given data vertically is:\n",
      " [[1. 2. 3. 4.]\n",
      " [5. 6. 7. 8.]]\n"
     ]
    }
   ],
   "source": [
    "import numpy as np\n",
    "a=np.array([float(x) for x in input('Enter elements into the array:').split()])\n",
    "print('The Given array is:\\n',a)\n",
    "b=([float(x) for x in input(\"Enter elements to append the data horizontally:\").split()])\n",
    "a=np.hstack((a,b))\n",
    "print('Array after appending the given data horizontally is:\\n',a)\n",
    "c=([float(x) for x in input(f\"Enter {len(a)} elements to append the data vertically:\").split()])\n",
    "a=np.vstack((a,c))\n",
    "print('Array after appending the given data vertically is:\\n',a)"
   ]
  },
  {
   "cell_type": "markdown",
   "id": "c4fec7be",
   "metadata": {},
   "source": [
    "# vii)\tApply indexing and slicing on array "
   ]
  },
  {
   "cell_type": "code",
   "execution_count": 17,
   "id": "3470be5d",
   "metadata": {},
   "outputs": [
    {
     "name": "stdout",
     "output_type": "stream",
     "text": [
      "Enter elements into the array:1 2 3 4 5 6 7 8 9 0\n",
      "The Given array is:\n",
      " [1. 2. 3. 4. 5. 6. 7. 8. 9. 0.]\n",
      "Enter a position to gets its element:4\n",
      "The element at position4 in the array is:4.0\n",
      "Enter a starting and ending position in the array to retrieve the elements between them:4 8\n",
      "The elements in the array between position4 and position8 are [5. 6. 7.]\n"
     ]
    }
   ],
   "source": [
    "import numpy as np\n",
    "a=np.array([float(x) for x in input('Enter elements into the array:').split()])\n",
    "print('The Given array is:\\n',a)\n",
    "p=int(input('Enter a position to gets its element:'))\n",
    "if(p>len(a)):\n",
    "    print('Given position is out of bounds')\n",
    "else:\n",
    "    print(f\"The element at position{p} in the array is:{a[p-1]}\")\n",
    "\n",
    "l=[int(x) for x in input('Enter a starting and ending position in the array to retrieve the elements between them:').split()]\n",
    "if l[0]<0 and l[1]>len(a):\n",
    "    print('Given positons are out of bounds')\n",
    "else:\n",
    "    print(f'The elements in the array between position{l[0]} and position{l[1]} are {a[l[0]:l[1]-1]}')"
   ]
  },
  {
   "cell_type": "markdown",
   "id": "4a958d34",
   "metadata": {},
   "source": [
    "# viii)\tUse statistical functions on array - Min, Max, Mean, Median and Standard Deviation "
   ]
  },
  {
   "cell_type": "code",
   "execution_count": 20,
   "id": "54844574",
   "metadata": {},
   "outputs": [
    {
     "name": "stdout",
     "output_type": "stream",
     "text": [
      "Enter elements into the array:1 5 6 9 4\n",
      "The Given array is:\n",
      " [1. 5. 6. 9. 4.]\n",
      "Minimum in a is  1.0\n",
      "Maximum in a is  9.0\n",
      "Mean of a is  5.0\n",
      "Median of a is  5.0\n",
      "Standard Deviation of a is  2.61\n"
     ]
    }
   ],
   "source": [
    "import numpy as np\n",
    "a=np.array([float(x) for x in input('Enter elements into the array:').split()])\n",
    "print('The Given array is:\\n',a)\n",
    "print('Minimum in a is ',np.min(a))\n",
    "print('Maximum in a is ',np.max(a))\n",
    "print('Mean of a is ',np.mean(a))\n",
    "print('Median of a is ',np.median(a))\n",
    "print('Standard Deviation of a is ',round(np.std(a),2))"
   ]
  },
  {
   "cell_type": "markdown",
   "id": "cdb5016b",
   "metadata": {},
   "source": [
    "# ix)\tDot  matrix product of two arrays "
   ]
  },
  {
   "cell_type": "code",
   "execution_count": 28,
   "id": "00c8dd2b",
   "metadata": {},
   "outputs": [
    {
     "name": "stdout",
     "output_type": "stream",
     "text": [
      "Dot product of \n",
      "[[1, 2], [3, 4]] and [[5, 6], [7, 8]] is:\n",
      "\n",
      "[[19 22]\n",
      " [43 50]]\n"
     ]
    }
   ],
   "source": [
    "a=[[1,2],\n",
    "  [3,4]]\n",
    "b=[[5,6],\n",
    "  [7,8]]\n",
    "print(f'Dot product of \\n{a} and {b} is:\\n\\n{np.dot(a,b)}')"
   ]
  },
  {
   "cell_type": "markdown",
   "id": "ab419b84",
   "metadata": {},
   "source": [
    "# x)\tCompute the Eigen values of a matrix "
   ]
  },
  {
   "cell_type": "code",
   "execution_count": 39,
   "id": "d0bbf232",
   "metadata": {},
   "outputs": [
    {
     "name": "stdout",
     "output_type": "stream",
     "text": [
      "The Eigen values of the array matrix\n",
      "[[3 1 1]\n",
      " [2 4 2]\n",
      " [1 1 3]]\n",
      "are [2. 6. 2.]\n"
     ]
    }
   ],
   "source": [
    "a=np.array([[3,1,1],\n",
    "   [2,4,2],\n",
    "   [1,1,3]])\n",
    "e,v=np.linalg.eig(a)\n",
    "print(f'The Eigen values of the array matrix\\n{a}\\nare {e}')\n"
   ]
  },
  {
   "cell_type": "markdown",
   "id": "c5935aec",
   "metadata": {},
   "source": [
    "# xi)\tSolve a linear matrix equation such as 3 * x0 + x1 = 9, x0 + 2 * x1 = 8 "
   ]
  },
  {
   "cell_type": "code",
   "execution_count": 41,
   "id": "9ffddea7",
   "metadata": {},
   "outputs": [
    {
     "name": "stdout",
     "output_type": "stream",
     "text": [
      "By solving the below equations:\n",
      "3*x0+x1=9 and\n",
      "x0+2*x1=8 we get x0= 2.0  and x1= 3.0\n"
     ]
    }
   ],
   "source": [
    "a=np.array([[3,1],[1,2]])\n",
    "b=np.array([9,8])\n",
    "x=np.linalg.solve(a,b)\n",
    "print('By solving the below equations:\\n3*x0+x1=9 and\\nx0+2*x1=8 we get x0=',x[0],' and x1=',x[1])"
   ]
  },
  {
   "cell_type": "markdown",
   "id": "84e30dc7",
   "metadata": {},
   "source": [
    "# xii)\tCompute the multiplicative inverse of a matrix "
   ]
  },
  {
   "cell_type": "code",
   "execution_count": 44,
   "id": "74b000b5",
   "metadata": {},
   "outputs": [
    {
     "name": "stdout",
     "output_type": "stream",
     "text": [
      "Multiplicative Inverse of matrix:\n",
      "[[3 1 1]\n",
      " [2 4 2]\n",
      " [1 1 3]] is \n",
      "[[ 0.42 -0.08 -0.08]\n",
      " [-0.17  0.33 -0.17]\n",
      " [-0.08 -0.08  0.42]]\n"
     ]
    }
   ],
   "source": [
    "a=np.array([[3,1,1],\n",
    "   [2,4,2],\n",
    "   [1,1,3]])\n",
    "print(f'Multiplicative Inverse of matrix:\\n{a} is \\n{np.round(np.linalg.inv(a),2)}')"
   ]
  },
  {
   "cell_type": "markdown",
   "id": "4181f7db",
   "metadata": {},
   "source": [
    "# xiii)\tCompute the rank of a matrix "
   ]
  },
  {
   "cell_type": "code",
   "execution_count": 46,
   "id": "c35f4480",
   "metadata": {},
   "outputs": [
    {
     "name": "stdout",
     "output_type": "stream",
     "text": [
      "The rank of the matrix:\n",
      "[[1 2 3]\n",
      " [2 3 4]\n",
      " [3 5 7]] is 2\n"
     ]
    }
   ],
   "source": [
    "a=np.array([[1,2,3],\n",
    "   [2,3,4],\n",
    "   [3,5,7]])\n",
    "print(f'The rank of the matrix:\\n{a} is {np.linalg.matrix_rank(a)}')"
   ]
  },
  {
   "cell_type": "markdown",
   "id": "6a582af1",
   "metadata": {},
   "source": [
    "# xiv)Compute the determinant of an array"
   ]
  },
  {
   "cell_type": "code",
   "execution_count": 48,
   "id": "920b7207",
   "metadata": {},
   "outputs": [
    {
     "name": "stdout",
     "output_type": "stream",
     "text": [
      "The determinant of the matrix:\n",
      "[[3 1 1]\n",
      " [2 4 2]\n",
      " [1 1 3]] is 24.0\n"
     ]
    }
   ],
   "source": [
    "a=np.array([[3,1,1],\n",
    "   [2,4,2],\n",
    "   [1,1,3]])\n",
    "print(f'The determinant of the matrix:\\n{a} is {np.round(np.linalg.det(a),2)}')"
   ]
  },
  {
   "cell_type": "markdown",
   "id": "63c77d5c",
   "metadata": {},
   "source": [
    "# xv)\tPerform transpose and change of axes operations on arrays."
   ]
  },
  {
   "cell_type": "code",
   "execution_count": 51,
   "id": "37b1d8c6",
   "metadata": {},
   "outputs": [
    {
     "name": "stdout",
     "output_type": "stream",
     "text": [
      "The given matrix is:\n",
      " [[3 1 1]\n",
      " [2 4 2]\n",
      " [1 1 3]]\n",
      "Transpose of matrix a (using transpose() method) is:\n",
      " [[3 2 1]\n",
      " [1 4 1]\n",
      " [1 2 3]]\n",
      "Transpose of matrix a (using swapaxes() method) is:\n",
      " [[3 2 1]\n",
      " [1 4 1]\n",
      " [1 2 3]]\n"
     ]
    }
   ],
   "source": [
    "a=np.array([[3,1,1],\n",
    "   [2,4,2],\n",
    "   [1,1,3]])\n",
    "print('The given matrix is:\\n',a)\n",
    "print('Transpose of matrix a (using transpose() method) is:\\n',np.transpose(a))\n",
    "print('Transpose of matrix a (using swapaxes() method) is:\\n',np.swapaxes(a,0,1))"
   ]
  },
  {
   "cell_type": "markdown",
   "id": "d864fb61",
   "metadata": {},
   "source": [
    "# xvi)\tPerform splitting operations on arrays."
   ]
  },
  {
   "cell_type": "code",
   "execution_count": 62,
   "id": "d5f2c8bf",
   "metadata": {},
   "outputs": [
    {
     "name": "stdout",
     "output_type": "stream",
     "text": [
      "Array:\n",
      "[[0 1 2]\n",
      " [3 4 5]\n",
      " [6 7 8]]\n",
      "\n",
      "Horizontal split:\n",
      "[[0]\n",
      " [3]\n",
      " [6]]\n",
      "[[1]\n",
      " [4]\n",
      " [7]]\n",
      "[[2]\n",
      " [5]\n",
      " [8]]\n",
      "\n",
      "Vertical split:\n",
      "[[0 1 2]]\n",
      "[[3 4 5]]\n",
      "[[6 7 8]]\n",
      "\n"
     ]
    }
   ],
   "source": [
    "arr = np.arange(9).reshape(3, 3)\n",
    "print(\"Array:\")\n",
    "print(arr)\n",
    "print()\n",
    "\n",
    "print(\"Horizontal split:\")\n",
    "a,b,c = np.hsplit(arr, 3)\n",
    "# a,b,c = np.split(arr,3,0)\n",
    "print(a)\n",
    "print(b)\n",
    "print(c)\n",
    "print()\n",
    "\n",
    "print(\"Vertical split:\")\n",
    "a,b,c = np.vsplit(arr, 3)\n",
    "# a,b,c = np.split(arr,3,1)\n",
    "print(a)\n",
    "print(b)\n",
    "print(c)\n",
    "print()\n"
   ]
  },
  {
   "cell_type": "code",
   "execution_count": null,
   "id": "b47a1e80",
   "metadata": {},
   "outputs": [],
   "source": []
  }
 ],
 "metadata": {
  "kernelspec": {
   "display_name": "Python 3 (ipykernel)",
   "language": "python",
   "name": "python3"
  },
  "language_info": {
   "codemirror_mode": {
    "name": "ipython",
    "version": 3
   },
   "file_extension": ".py",
   "mimetype": "text/x-python",
   "name": "python",
   "nbconvert_exporter": "python",
   "pygments_lexer": "ipython3",
   "version": "3.11.3"
  }
 },
 "nbformat": 4,
 "nbformat_minor": 5
}
